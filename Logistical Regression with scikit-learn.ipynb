{
 "cells": [
  {
   "cell_type": "code",
   "execution_count": 1,
   "id": "ef9b50d9",
   "metadata": {},
   "outputs": [],
   "source": [
    "import pandas as pd\n",
    "from sklearn.utils import shuffle\n",
    "from sklearn.linear_model import LogisticRegression"
   ]
  },
  {
   "cell_type": "code",
   "execution_count": 2,
   "id": "c2eb3005",
   "metadata": {},
   "outputs": [],
   "source": [
    "data = pd.read_excel('cc_data.xls')\n",
    "data = shuffle(data)"
   ]
  },
  {
   "cell_type": "code",
   "execution_count": 3,
   "id": "151fa60f",
   "metadata": {},
   "outputs": [],
   "source": [
    "xvals = []\n",
    "yvals = []\n",
    "for d in data[:500].iterrows():\n",
    "    info = d[1]\n",
    "    xvals.append(info[1:-1])\n",
    "    yvals.append(info[-1])"
   ]
  },
  {
   "cell_type": "code",
   "execution_count": 11,
   "id": "3ede6811",
   "metadata": {},
   "outputs": [],
   "source": [
    "clf = LogisticRegression(random_state=0, max_iter=500).fit(xvals, yvals)"
   ]
  },
  {
   "cell_type": "code",
   "execution_count": 14,
   "id": "27803271",
   "metadata": {},
   "outputs": [
    {
     "data": {
      "text/plain": [
       "0.792"
      ]
     },
     "execution_count": 14,
     "metadata": {},
     "output_type": "execute_result"
    }
   ],
   "source": [
    "test_xvals = []\n",
    "test_yvals = []\n",
    "for d in data[500:1000].iterrows():\n",
    "    info = d[1]\n",
    "    test_xvals.append(info[1:-1])\n",
    "    test_yvals.append(info[-1])\n",
    "clf.score(test_xvals, test_yvals)"
   ]
  },
  {
   "cell_type": "code",
   "execution_count": null,
   "id": "23f187bc",
   "metadata": {},
   "outputs": [],
   "source": []
  }
 ],
 "metadata": {
  "kernelspec": {
   "display_name": "Python 3 (ipykernel)",
   "language": "python",
   "name": "python3"
  },
  "language_info": {
   "codemirror_mode": {
    "name": "ipython",
    "version": 3
   },
   "file_extension": ".py",
   "mimetype": "text/x-python",
   "name": "python",
   "nbconvert_exporter": "python",
   "pygments_lexer": "ipython3",
   "version": "3.9.6"
  }
 },
 "nbformat": 4,
 "nbformat_minor": 5
}
