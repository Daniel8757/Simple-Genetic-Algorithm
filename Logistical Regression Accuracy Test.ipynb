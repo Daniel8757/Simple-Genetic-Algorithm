{
 "cells": [
  {
   "cell_type": "code",
   "execution_count": 1,
   "id": "970ac270",
   "metadata": {},
   "outputs": [],
   "source": [
    "import pandas as pd\n",
    "from sklearn.utils import shuffle\n",
    "data = pd.read_excel('cc_data.xls')\n",
    "data = shuffle(data)"
   ]
  },
  {
   "cell_type": "code",
   "execution_count": 2,
   "id": "c132500e",
   "metadata": {},
   "outputs": [],
   "source": [
    "xvals = []\n",
    "yvals = []\n",
    "for d in data[:500].iterrows():\n",
    "    info = d[1]\n",
    "    xvals.append(info[1:-1])\n",
    "    yvals.append(info[-1])"
   ]
  },
  {
   "cell_type": "code",
   "execution_count": 3,
   "id": "1d824208",
   "metadata": {},
   "outputs": [],
   "source": [
    "import RealValueGA\n",
    "model = RealValueGA.LogisticalRegression()"
   ]
  },
  {
   "cell_type": "code",
   "execution_count": 4,
   "id": "0ddebd2b",
   "metadata": {},
   "outputs": [
    {
     "name": "stdout",
     "output_type": "stream",
     "text": [
      "generation: 0\n",
      "best fitness: 0.004069807021546605\n",
      "average fitness: 0.002756610157014194\n",
      "generation: 1\n",
      "best fitness: 0.004080275085408145\n",
      "average fitness: 0.0029413213499432656\n",
      "generation: 2\n",
      "best fitness: 0.004083923065666389\n",
      "average fitness: 0.003158365087155451\n",
      "generation: 3\n",
      "best fitness: 0.004102578620034423\n",
      "average fitness: 0.003311249984986511\n",
      "generation: 4\n",
      "best fitness: 0.004102578620034423\n",
      "average fitness: 0.003422306242025529\n",
      "generation: 5\n",
      "best fitness: 0.004102578620034423\n",
      "average fitness: 0.0035812285174096473\n",
      "generation: 6\n",
      "best fitness: 0.004102578620034423\n",
      "average fitness: 0.0036353887273441886\n",
      "generation: 7\n",
      "best fitness: 0.004100048143187751\n",
      "average fitness: 0.003711853017424665\n",
      "generation: 8\n",
      "best fitness: 0.004083824443539044\n",
      "average fitness: 0.0037226675501900366\n",
      "generation: 9\n",
      "best fitness: 0.004079987640953827\n",
      "average fitness: 0.0037240667184045974\n",
      "generation: 10\n",
      "best fitness: 0.004096648094784671\n",
      "average fitness: 0.0037964496277062697\n",
      "generation: 11\n",
      "best fitness: 0.004081800277058573\n",
      "average fitness: 0.0038213242644617373\n",
      "generation: 12\n",
      "best fitness: 0.004080281794294773\n",
      "average fitness: 0.0038282799680814496\n",
      "generation: 13\n",
      "best fitness: 0.004088901130375387\n",
      "average fitness: 0.0038415381206191985\n",
      "generation: 14\n",
      "best fitness: 0.004095376820986381\n",
      "average fitness: 0.0038625298410342947\n",
      "generation: 15\n",
      "best fitness: 0.004094222992387251\n",
      "average fitness: 0.003875686540266648\n",
      "generation: 16\n",
      "best fitness: 0.004098558666016824\n",
      "average fitness: 0.003879302091670264\n",
      "generation: 17\n",
      "best fitness: 0.004086978039444906\n",
      "average fitness: 0.0038849544190514436\n",
      "generation: 18\n",
      "best fitness: 0.00407893937054709\n",
      "average fitness: 0.00387459293439085\n",
      "generation: 19\n",
      "best fitness: 0.0040902855393174144\n",
      "average fitness: 0.003876793469622301\n",
      "generation: 20\n",
      "best fitness: 0.0040902855393174144\n",
      "average fitness: 0.0038765239900225364\n",
      "generation: 21\n",
      "best fitness: 0.0040902855393174144\n",
      "average fitness: 0.0038635320052192016\n",
      "generation: 22\n",
      "best fitness: 0.004093911881984169\n",
      "average fitness: 0.003877437678326979\n",
      "generation: 23\n",
      "best fitness: 0.0040926718888885955\n",
      "average fitness: 0.003879261322130303\n",
      "generation: 24\n",
      "best fitness: 0.004091242166569882\n",
      "average fitness: 0.0038973762567749183\n",
      "generation: 25\n",
      "best fitness: 0.004081958690623062\n",
      "average fitness: 0.003875404776843271\n",
      "generation: 26\n",
      "best fitness: 0.0040882451011152125\n",
      "average fitness: 0.00388739879988097\n",
      "generation: 27\n",
      "best fitness: 0.004101727103610795\n",
      "average fitness: 0.003906176285999552\n",
      "generation: 28\n",
      "best fitness: 0.004101727103610795\n",
      "average fitness: 0.003929312379315356\n",
      "generation: 29\n",
      "best fitness: 0.004077597304268261\n",
      "average fitness: 0.003910509093822767\n",
      "accuracy: 0.794\n"
     ]
    }
   ],
   "source": [
    "best_genome = model.run(len(xvals[0]), xvals, yvals, log=False)"
   ]
  },
  {
   "cell_type": "code",
   "execution_count": 5,
   "id": "c8710472",
   "metadata": {},
   "outputs": [],
   "source": [
    "test_xvals = []\n",
    "test_yvals = []\n",
    "for d in data[500:1000].iterrows():\n",
    "    info = d[1]\n",
    "    test_xvals.append(info[1:-1])\n",
    "    test_yvals.append(info[-1])"
   ]
  },
  {
   "cell_type": "code",
   "execution_count": 6,
   "id": "fb2e5980",
   "metadata": {},
   "outputs": [
    {
     "data": {
      "text/plain": [
       "0.79"
      ]
     },
     "execution_count": 6,
     "metadata": {},
     "output_type": "execute_result"
    }
   ],
   "source": [
    "pred = model.predict_values(best_genome, RealValueGA.normalize_x(test_xvals))\n",
    "model.get_accuracy(pred, test_yvals)"
   ]
  },
  {
   "cell_type": "code",
   "execution_count": 10,
   "id": "b31b721d",
   "metadata": {},
   "outputs": [
    {
     "data": {
      "text/plain": [
       "0.794"
      ]
     },
     "execution_count": 10,
     "metadata": {},
     "output_type": "execute_result"
    }
   ],
   "source": [
    "model.get_accuracy(model.predict_values(best_genome, RealValueGA.normalize_x(xvals)), yvals)"
   ]
  },
  {
   "cell_type": "code",
   "execution_count": null,
   "id": "75d5d3b8",
   "metadata": {},
   "outputs": [],
   "source": []
  }
 ],
 "metadata": {
  "kernelspec": {
   "display_name": "Python 3 (ipykernel)",
   "language": "python",
   "name": "python3"
  },
  "language_info": {
   "codemirror_mode": {
    "name": "ipython",
    "version": 3
   },
   "file_extension": ".py",
   "mimetype": "text/x-python",
   "name": "python",
   "nbconvert_exporter": "python",
   "pygments_lexer": "ipython3",
   "version": "3.9.6"
  }
 },
 "nbformat": 4,
 "nbformat_minor": 5
}
