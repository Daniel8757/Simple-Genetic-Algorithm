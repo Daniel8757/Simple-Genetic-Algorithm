{
 "cells": [
  {
   "cell_type": "code",
   "execution_count": 1,
   "id": "d050457d",
   "metadata": {},
   "outputs": [],
   "source": [
    "import pandas as pd\n",
    "from sklearn.utils import shuffle\n",
    "data = pd.read_excel('cc_data.xls')\n",
    "data = shuffle(data)"
   ]
  },
  {
   "cell_type": "code",
   "execution_count": 2,
   "id": "9a86c07f",
   "metadata": {},
   "outputs": [],
   "source": [
    "xvals = []\n",
    "yvals = []\n",
    "for d in data[:500].iterrows():\n",
    "    info = d[1]\n",
    "    xvals.append(info[1:-1])\n",
    "    yvals.append(info[-1])"
   ]
  },
  {
   "cell_type": "code",
   "execution_count": 3,
   "id": "b7fc42d8",
   "metadata": {},
   "outputs": [],
   "source": [
    "import RealValueGA\n",
    "model = RealValueGA.LogisticalRegression()"
   ]
  },
  {
   "cell_type": "code",
   "execution_count": 4,
   "id": "528b9f0d",
   "metadata": {},
   "outputs": [
    {
     "name": "stdout",
     "output_type": "stream",
     "text": [
      "generation: 0\n",
      "best fitness: 0.004069807021546605\n",
      "average fitness: 0.002756610157014194\n",
      "generation: 1\n",
      "best fitness: 0.004080275085408145\n",
      "average fitness: 0.0029413213499432656\n",
      "generation: 2\n",
      "best fitness: 0.004083923065666389\n",
      "average fitness: 0.003158365087155451\n",
      "generation: 3\n",
      "best fitness: 0.004102578620034423\n",
      "average fitness: 0.003311249984986511\n",
      "generation: 4\n",
      "best fitness: 0.004102578620034423\n",
      "average fitness: 0.003422306242025529\n",
      "generation: 5\n",
      "best fitness: 0.004102578620034423\n",
      "average fitness: 0.0035812285174096473\n",
      "generation: 6\n",
      "best fitness: 0.004102578620034423\n",
      "average fitness: 0.0036353887273441886\n",
      "generation: 7\n",
      "best fitness: 0.004100048143187751\n",
      "average fitness: 0.003711853017424665\n",
      "generation: 8\n",
      "best fitness: 0.004083824443539044\n",
      "average fitness: 0.0037226675501900366\n",
      "generation: 9\n",
      "best fitness: 0.004079987640953827\n",
      "average fitness: 0.0037240667184045974\n",
      "generation: 10\n",
      "best fitness: 0.004096648094784671\n",
      "average fitness: 0.0037964496277062697\n",
      "generation: 11\n",
      "best fitness: 0.004081800277058573\n",
      "average fitness: 0.0038213242644617373\n",
      "generation: 12\n",
      "best fitness: 0.004080281794294773\n",
      "average fitness: 0.0038282799680814496\n",
      "generation: 13\n",
      "best fitness: 0.004088901130375387\n",
      "average fitness: 0.0038415381206191985\n",
      "generation: 14\n",
      "best fitness: 0.004095376820986381\n",
      "average fitness: 0.0038625298410342947\n",
      "generation: 15\n",
      "best fitness: 0.004094222992387251\n",
      "average fitness: 0.003875686540266648\n",
      "generation: 16\n",
      "best fitness: 0.004098558666016824\n",
      "average fitness: 0.003879302091670264\n",
      "generation: 17\n",
      "best fitness: 0.004086978039444906\n",
      "average fitness: 0.0038849544190514436\n",
      "generation: 18\n",
      "best fitness: 0.00407893937054709\n",
      "average fitness: 0.00387459293439085\n",
      "generation: 19\n",
      "best fitness: 0.0040902855393174144\n",
      "average fitness: 0.003876793469622301\n",
      "generation: 20\n",
      "best fitness: 0.0040902855393174144\n",
      "average fitness: 0.0038765239900225364\n",
      "generation: 21\n",
      "best fitness: 0.0040902855393174144\n",
      "average fitness: 0.0038635320052192016\n",
      "generation: 22\n",
      "best fitness: 0.004093911881984169\n",
      "average fitness: 0.003877437678326979\n",
      "generation: 23\n",
      "best fitness: 0.0040926718888885955\n",
      "average fitness: 0.003879261322130303\n",
      "generation: 24\n",
      "best fitness: 0.004091242166569882\n",
      "average fitness: 0.0038973762567749183\n",
      "generation: 25\n",
      "best fitness: 0.004081958690623062\n",
      "average fitness: 0.003875404776843271\n",
      "generation: 26\n",
      "best fitness: 0.0040882451011152125\n",
      "average fitness: 0.00388739879988097\n",
      "generation: 27\n",
      "best fitness: 0.004101727103610795\n",
      "average fitness: 0.003906176285999552\n",
      "generation: 28\n",
      "best fitness: 0.004101727103610795\n",
      "average fitness: 0.003929312379315356\n",
      "generation: 29\n",
      "best fitness: 0.004077597304268261\n",
      "average fitness: 0.003910509093822767\n",
      "accuracy: 0.794\n"
     ]
    }
   ],
   "source": [
    "best_genome = model.run(len(xvals[0]), xvals, yvals, log=False)"
   ]
  },
  {
   "cell_type": "code",
   "execution_count": 5,
   "id": "384e8ffb",
   "metadata": {},
   "outputs": [],
   "source": [
    "test_xvals = []\n",
    "test_yvals = []\n",
    "for d in data[500:1000].iterrows():\n",
    "    info = d[1]\n",
    "    test_xvals.append(info[1:-1])\n",
    "    test_yvals.append(info[-1])"
   ]
  },
  {
   "cell_type": "code",
   "execution_count": 6,
   "id": "3fc09b88",
   "metadata": {},
   "outputs": [
    {
     "data": {
      "text/plain": [
       "0.79"
      ]
     },
     "execution_count": 6,
     "metadata": {},
     "output_type": "execute_result"
    }
   ],
   "source": [
    "pred = model.predict_values(best_genome, RealValueGA.normalize_x(test_xvals))\n",
    "model.get_accuracy(pred, test_yvals)"
   ]
  },
  {
   "cell_type": "code",
   "execution_count": 7,
   "id": "3decafc0",
   "metadata": {},
   "outputs": [
    {
     "ename": "ValueError",
     "evalue": "The truth value of a Series is ambiguous. Use a.empty, a.bool(), a.item(), a.any() or a.all().",
     "output_type": "error",
     "traceback": [
      "\u001b[0;31m---------------------------------------------------------------------------\u001b[0m",
      "\u001b[0;31mValueError\u001b[0m                                Traceback (most recent call last)",
      "Cell \u001b[0;32mIn [7], line 1\u001b[0m\n\u001b[0;32m----> 1\u001b[0m \u001b[43mmodel\u001b[49m\u001b[38;5;241;43m.\u001b[39;49m\u001b[43mget_accuracy\u001b[49m\u001b[43m(\u001b[49m\u001b[43mxvals\u001b[49m\u001b[43m,\u001b[49m\u001b[43m \u001b[49m\u001b[43myvals\u001b[49m\u001b[43m)\u001b[49m\n",
      "File \u001b[0;32m~/Downloads/SimpleGA/RealValueGA.py:210\u001b[0m, in \u001b[0;36mLogisticalRegression.get_accuracy\u001b[0;34m(self, pred, actual)\u001b[0m\n\u001b[1;32m    208\u001b[0m correct \u001b[38;5;241m=\u001b[39m \u001b[38;5;241m0\u001b[39m\n\u001b[1;32m    209\u001b[0m \u001b[38;5;28;01mfor\u001b[39;00m i \u001b[38;5;129;01min\u001b[39;00m \u001b[38;5;28mrange\u001b[39m(\u001b[38;5;28mlen\u001b[39m(pred)):\n\u001b[0;32m--> 210\u001b[0m     \u001b[38;5;28;01mif\u001b[39;00m (pred[i] \u001b[38;5;241m>\u001b[39m\u001b[38;5;241m=\u001b[39m \u001b[38;5;241m0.5\u001b[39m \u001b[38;5;129;01mand\u001b[39;00m actual[i] \u001b[38;5;241m==\u001b[39m \u001b[38;5;241m1\u001b[39m) \u001b[38;5;129;01mor\u001b[39;00m (pred[i] \u001b[38;5;241m<\u001b[39m \u001b[38;5;241m0.5\u001b[39m \u001b[38;5;129;01mand\u001b[39;00m actual[i] \u001b[38;5;241m==\u001b[39m \u001b[38;5;241m0\u001b[39m):\n\u001b[1;32m    211\u001b[0m         correct \u001b[38;5;241m+\u001b[39m\u001b[38;5;241m=\u001b[39m \u001b[38;5;241m1\u001b[39m\n\u001b[1;32m    212\u001b[0m \u001b[38;5;28;01mreturn\u001b[39;00m correct\u001b[38;5;241m/\u001b[39m\u001b[38;5;28mlen\u001b[39m(pred)\n",
      "File \u001b[0;32m~/Library/Python/3.9/lib/python/site-packages/pandas/core/generic.py:1526\u001b[0m, in \u001b[0;36mNDFrame.__nonzero__\u001b[0;34m(self)\u001b[0m\n\u001b[1;32m   1524\u001b[0m \u001b[38;5;129m@final\u001b[39m\n\u001b[1;32m   1525\u001b[0m \u001b[38;5;28;01mdef\u001b[39;00m \u001b[38;5;21m__nonzero__\u001b[39m(\u001b[38;5;28mself\u001b[39m) \u001b[38;5;241m-\u001b[39m\u001b[38;5;241m>\u001b[39m NoReturn:\n\u001b[0;32m-> 1526\u001b[0m     \u001b[38;5;28;01mraise\u001b[39;00m \u001b[38;5;167;01mValueError\u001b[39;00m(\n\u001b[1;32m   1527\u001b[0m         \u001b[38;5;124mf\u001b[39m\u001b[38;5;124m\"\u001b[39m\u001b[38;5;124mThe truth value of a \u001b[39m\u001b[38;5;132;01m{\u001b[39;00m\u001b[38;5;28mtype\u001b[39m(\u001b[38;5;28mself\u001b[39m)\u001b[38;5;241m.\u001b[39m\u001b[38;5;18m__name__\u001b[39m\u001b[38;5;132;01m}\u001b[39;00m\u001b[38;5;124m is ambiguous. \u001b[39m\u001b[38;5;124m\"\u001b[39m\n\u001b[1;32m   1528\u001b[0m         \u001b[38;5;124m\"\u001b[39m\u001b[38;5;124mUse a.empty, a.bool(), a.item(), a.any() or a.all().\u001b[39m\u001b[38;5;124m\"\u001b[39m\n\u001b[1;32m   1529\u001b[0m     )\n",
      "\u001b[0;31mValueError\u001b[0m: The truth value of a Series is ambiguous. Use a.empty, a.bool(), a.item(), a.any() or a.all()."
     ]
    }
   ],
   "source": [
    "\n",
    "model.get_accuracy(xvals, yvals)"
   ]
  },
  {
   "cell_type": "code",
   "execution_count": null,
   "id": "82b68cad",
   "metadata": {},
   "outputs": [],
   "source": []
  }
 ],
 "metadata": {
  "kernelspec": {
   "display_name": "Python 3 (ipykernel)",
   "language": "python",
   "name": "python3"
  },
  "language_info": {
   "codemirror_mode": {
    "name": "ipython",
    "version": 3
   },
   "file_extension": ".py",
   "mimetype": "text/x-python",
   "name": "python",
   "nbconvert_exporter": "python",
   "pygments_lexer": "ipython3",
   "version": "3.9.6"
  }
 },
 "nbformat": 4,
 "nbformat_minor": 5
}
