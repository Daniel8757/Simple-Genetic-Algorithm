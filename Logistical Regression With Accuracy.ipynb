{
 "cells": [
  {
   "cell_type": "code",
   "execution_count": 1,
   "id": "a96f5e49",
   "metadata": {},
   "outputs": [],
   "source": [
    "import pandas as pd\n",
    "from sklearn.utils import shuffle\n",
    "data = pd.read_excel('cc_data.xls')\n",
    "data = shuffle(data)"
   ]
  },
  {
   "cell_type": "code",
   "execution_count": 2,
   "id": "74eac329",
   "metadata": {},
   "outputs": [],
   "source": [
    "xvals = []\n",
    "yvals = []\n",
    "for d in data[:500].iterrows():\n",
    "    info = d[1]\n",
    "    xvals.append(info[1:-1])\n",
    "    yvals.append(info[-1])"
   ]
  },
  {
   "cell_type": "code",
   "execution_count": 3,
   "id": "693c1b9d",
   "metadata": {},
   "outputs": [],
   "source": [
    "import RealValueGA\n",
    "model = RealValueGA.LogisticalRegression()"
   ]
  },
  {
   "cell_type": "code",
   "execution_count": 4,
   "id": "2c34ca72",
   "metadata": {},
   "outputs": [
    {
     "name": "stdout",
     "output_type": "stream",
     "text": [
      "generation: 0\n",
      "best fitness: 0.784\n",
      "average fitness: 0.4964200000000001\n",
      "generation: 20\n",
      "best fitness: 0.774\n",
      "average fitness: 0.7668700000000005\n",
      "generation: 40\n",
      "best fitness: 0.77\n",
      "average fitness: 0.7678000000000008\n",
      "generation: 60\n",
      "best fitness: 0.77\n",
      "average fitness: 0.7697100000000004\n",
      "generation: 80\n",
      "best fitness: 0.772\n",
      "average fitness: 0.7694800000000009\n",
      "generation: 100\n",
      "best fitness: 0.772\n",
      "average fitness: 0.7695100000000007\n",
      "generation: 120\n",
      "best fitness: 0.772\n",
      "average fitness: 0.7693300000000005\n",
      "generation: 140\n",
      "best fitness: 0.774\n",
      "average fitness: 0.7693900000000009\n",
      "generation: 160\n",
      "best fitness: 0.77\n",
      "average fitness: 0.7682800000000004\n",
      "generation: 180\n",
      "best fitness: 0.774\n",
      "average fitness: 0.7694500000000006\n",
      "generation: 200\n",
      "best fitness: 0.774\n",
      "average fitness: 0.7697100000000006\n",
      "generation: 220\n",
      "best fitness: 0.776\n",
      "average fitness: 0.7696900000000005\n",
      "generation: 240\n",
      "best fitness: 0.77\n",
      "average fitness: 0.7690500000000003\n"
     ]
    }
   ],
   "source": [
    "mut_0 = model.run(len(xvals[0]), xvals, yvals, mutation_rate=0.0003, log=False)"
   ]
  },
  {
   "cell_type": "code",
   "execution_count": 5,
   "id": "d5d22872",
   "metadata": {},
   "outputs": [
    {
     "name": "stdout",
     "output_type": "stream",
     "text": [
      "generation: 0\n",
      "best fitness: 0.78\n",
      "average fitness: 0.4721300000000004\n",
      "generation: 20\n",
      "best fitness: 0.778\n",
      "average fitness: 0.7630200000000006\n",
      "generation: 40\n",
      "best fitness: 0.776\n",
      "average fitness: 0.7638600000000006\n",
      "generation: 60\n",
      "best fitness: 0.776\n",
      "average fitness: 0.7696200000000007\n",
      "generation: 80\n",
      "best fitness: 0.786\n",
      "average fitness: 0.7679800000000003\n",
      "generation: 100\n",
      "best fitness: 0.792\n",
      "average fitness: 0.7696100000000001\n",
      "generation: 120\n",
      "best fitness: 0.774\n",
      "average fitness: 0.7698900000000007\n",
      "generation: 140\n",
      "best fitness: 0.78\n",
      "average fitness: 0.7696000000000006\n",
      "generation: 160\n",
      "best fitness: 0.778\n",
      "average fitness: 0.7692100000000007\n",
      "generation: 180\n",
      "best fitness: 0.772\n",
      "average fitness: 0.7700000000000005\n",
      "generation: 200\n",
      "best fitness: 0.774\n",
      "average fitness: 0.7700600000000009\n",
      "generation: 220\n",
      "best fitness: 0.774\n",
      "average fitness: 0.7698800000000009\n",
      "generation: 240\n",
      "best fitness: 0.774\n",
      "average fitness: 0.7701600000000003\n"
     ]
    }
   ],
   "source": [
    "mut_1 = model.run(len(xvals[0]), xvals, yvals, mutation_rate=0.0006, log=False)"
   ]
  },
  {
   "cell_type": "code",
   "execution_count": 6,
   "id": "ff75f0b2",
   "metadata": {},
   "outputs": [
    {
     "name": "stdout",
     "output_type": "stream",
     "text": [
      "generation: 0\n",
      "best fitness: 0.772\n",
      "average fitness: 0.5011900000000001\n",
      "generation: 20\n",
      "best fitness: 0.78\n",
      "average fitness: 0.7610600000000006\n",
      "generation: 40\n",
      "best fitness: 0.772\n",
      "average fitness: 0.7629400000000004\n",
      "generation: 60\n",
      "best fitness: 0.774\n",
      "average fitness: 0.7663500000000003\n",
      "generation: 80\n",
      "best fitness: 0.77\n",
      "average fitness: 0.7657000000000009\n",
      "generation: 100\n",
      "best fitness: 0.772\n",
      "average fitness: 0.7660900000000008\n",
      "generation: 120\n",
      "best fitness: 0.77\n",
      "average fitness: 0.7680200000000005\n",
      "generation: 140\n",
      "best fitness: 0.77\n",
      "average fitness: 0.7691000000000008\n",
      "generation: 160\n",
      "best fitness: 0.77\n",
      "average fitness: 0.7695700000000005\n",
      "generation: 180\n",
      "best fitness: 0.77\n",
      "average fitness: 0.7696600000000007\n",
      "generation: 200\n",
      "best fitness: 0.77\n",
      "average fitness: 0.7694200000000007\n",
      "generation: 220\n",
      "best fitness: 0.77\n",
      "average fitness: 0.7694600000000007\n",
      "generation: 240\n",
      "best fitness: 0.77\n",
      "average fitness: 0.7693400000000004\n"
     ]
    }
   ],
   "source": [
    "mut_2 = model.run(len(xvals[0]), xvals, yvals, mutation_rate=0.001, log=False)"
   ]
  },
  {
   "cell_type": "code",
   "execution_count": 7,
   "id": "3e5414b0",
   "metadata": {
    "scrolled": true
   },
   "outputs": [
    {
     "name": "stdout",
     "output_type": "stream",
     "text": [
      "generation: 0\n",
      "best fitness: 0.788\n",
      "average fitness: 0.44891000000000003\n",
      "generation: 20\n",
      "best fitness: 0.782\n",
      "average fitness: 0.7510499999999999\n",
      "generation: 40\n",
      "best fitness: 0.772\n",
      "average fitness: 0.7644400000000006\n",
      "generation: 60\n",
      "best fitness: 0.778\n",
      "average fitness: 0.7666000000000004\n",
      "generation: 80\n",
      "best fitness: 0.776\n",
      "average fitness: 0.7633500000000004\n",
      "generation: 100\n",
      "best fitness: 0.78\n",
      "average fitness: 0.7661000000000006\n",
      "generation: 120\n",
      "best fitness: 0.772\n",
      "average fitness: 0.76678\n",
      "generation: 140\n",
      "best fitness: 0.778\n",
      "average fitness: 0.7681100000000007\n",
      "generation: 160\n",
      "best fitness: 0.778\n",
      "average fitness: 0.769270000000001\n",
      "generation: 180\n",
      "best fitness: 0.782\n",
      "average fitness: 0.7691300000000006\n",
      "generation: 200\n",
      "best fitness: 0.772\n",
      "average fitness: 0.7690300000000007\n",
      "generation: 220\n",
      "best fitness: 0.774\n",
      "average fitness: 0.7698700000000005\n",
      "generation: 240\n",
      "best fitness: 0.77\n",
      "average fitness: 0.7697700000000008\n"
     ]
    }
   ],
   "source": [
    "mut_3 = model.run(len(xvals[0]), xvals, yvals, mutation_rate=0.002, log=False)"
   ]
  },
  {
   "cell_type": "code",
   "execution_count": 8,
   "id": "1e4cb7d5",
   "metadata": {},
   "outputs": [
    {
     "name": "stdout",
     "output_type": "stream",
     "text": [
      "generation: 0\n",
      "best fitness: 0.776\n",
      "average fitness: 0.4938500000000003\n",
      "generation: 20\n",
      "best fitness: 0.784\n",
      "average fitness: 0.7597900000000005\n",
      "generation: 40\n",
      "best fitness: 0.778\n",
      "average fitness: 0.7685300000000008\n",
      "generation: 60\n",
      "best fitness: 0.778\n",
      "average fitness: 0.7678600000000004\n",
      "generation: 80\n",
      "best fitness: 0.782\n",
      "average fitness: 0.7666100000000003\n",
      "generation: 100\n",
      "best fitness: 0.78\n",
      "average fitness: 0.7703900000000006\n",
      "generation: 120\n",
      "best fitness: 0.784\n",
      "average fitness: 0.7668900000000001\n",
      "generation: 140\n",
      "best fitness: 0.79\n",
      "average fitness: 0.7678300000000003\n",
      "generation: 160\n",
      "best fitness: 0.786\n",
      "average fitness: 0.770320000000001\n",
      "generation: 180\n",
      "best fitness: 0.788\n",
      "average fitness: 0.7699600000000001\n",
      "generation: 200\n",
      "best fitness: 0.782\n",
      "average fitness: 0.7690500000000009\n",
      "generation: 220\n",
      "best fitness: 0.784\n",
      "average fitness: 0.770830000000001\n",
      "generation: 240\n",
      "best fitness: 0.79\n",
      "average fitness: 0.7717600000000008\n"
     ]
    }
   ],
   "source": [
    "mut_4 = model.run(len(xvals[0]), xvals, yvals, mutation_rate=0.003, log=False)"
   ]
  },
  {
   "cell_type": "code",
   "execution_count": 9,
   "id": "94f2ad1e",
   "metadata": {},
   "outputs": [
    {
     "name": "stdout",
     "output_type": "stream",
     "text": [
      "generation: 0\n",
      "best fitness: 0.776\n",
      "average fitness: 0.49378999999999984\n",
      "generation: 20\n",
      "best fitness: 0.772\n",
      "average fitness: 0.7667000000000003\n",
      "generation: 40\n",
      "best fitness: 0.772\n",
      "average fitness: 0.7689300000000009\n",
      "generation: 60\n",
      "best fitness: 0.772\n",
      "average fitness: 0.7697100000000006\n",
      "generation: 80\n",
      "best fitness: 0.772\n",
      "average fitness: 0.7699200000000006\n",
      "generation: 100\n",
      "best fitness: 0.772\n",
      "average fitness: 0.7699700000000007\n",
      "generation: 120\n",
      "best fitness: 0.772\n",
      "average fitness: 0.7697200000000005\n",
      "generation: 140\n",
      "best fitness: 0.772\n",
      "average fitness: 0.7701700000000008\n",
      "generation: 160\n",
      "best fitness: 0.776\n",
      "average fitness: 0.7703900000000007\n",
      "generation: 180\n",
      "best fitness: 0.776\n",
      "average fitness: 0.7702100000000004\n",
      "generation: 200\n",
      "best fitness: 0.774\n",
      "average fitness: 0.7705600000000004\n",
      "generation: 220\n",
      "best fitness: 0.774\n",
      "average fitness: 0.7701300000000002\n",
      "generation: 240\n",
      "best fitness: 0.774\n",
      "average fitness: 0.7700800000000007\n"
     ]
    }
   ],
   "source": [
    "cross_0 = model.run(len(xvals[0]), xvals, yvals, crossover_rate=0, log=False)"
   ]
  },
  {
   "cell_type": "code",
   "execution_count": 10,
   "id": "02562dab",
   "metadata": {},
   "outputs": [
    {
     "name": "stdout",
     "output_type": "stream",
     "text": [
      "generation: 0\n",
      "best fitness: 0.774\n",
      "average fitness: 0.48651999999999984\n",
      "generation: 20\n",
      "best fitness: 0.776\n",
      "average fitness: 0.7621300000000005\n",
      "generation: 40\n",
      "best fitness: 0.786\n",
      "average fitness: 0.7635700000000005\n",
      "generation: 60\n",
      "best fitness: 0.778\n",
      "average fitness: 0.7656800000000006\n",
      "generation: 80\n",
      "best fitness: 0.782\n",
      "average fitness: 0.7677200000000007\n",
      "generation: 100\n",
      "best fitness: 0.772\n",
      "average fitness: 0.7688700000000007\n",
      "generation: 120\n",
      "best fitness: 0.77\n",
      "average fitness: 0.7696700000000009\n",
      "generation: 140\n",
      "best fitness: 0.77\n",
      "average fitness: 0.7695400000000003\n",
      "generation: 160\n",
      "best fitness: 0.774\n",
      "average fitness: 0.7700100000000005\n",
      "generation: 180\n",
      "best fitness: 0.77\n",
      "average fitness: 0.7699800000000008\n",
      "generation: 200\n",
      "best fitness: 0.77\n",
      "average fitness: 0.7700000000000007\n",
      "generation: 220\n",
      "best fitness: 0.77\n",
      "average fitness: 0.7699900000000006\n",
      "generation: 240\n",
      "best fitness: 0.77\n",
      "average fitness: 0.7700000000000007\n"
     ]
    }
   ],
   "source": [
    "cross_1 = model.run(len(xvals[0]), xvals, yvals, crossover_rate=0.3, log=False)"
   ]
  },
  {
   "cell_type": "code",
   "execution_count": 11,
   "id": "16c7583f",
   "metadata": {},
   "outputs": [
    {
     "name": "stdout",
     "output_type": "stream",
     "text": [
      "generation: 0\n",
      "best fitness: 0.79\n",
      "average fitness: 0.4859700000000002\n",
      "generation: 20\n",
      "best fitness: 0.772\n",
      "average fitness: 0.7570400000000005\n",
      "generation: 40\n",
      "best fitness: 0.776\n",
      "average fitness: 0.7614500000000003\n",
      "generation: 60\n",
      "best fitness: 0.772\n",
      "average fitness: 0.7683100000000007\n",
      "generation: 80\n",
      "best fitness: 0.77\n",
      "average fitness: 0.7682500000000009\n",
      "generation: 100\n",
      "best fitness: 0.772\n",
      "average fitness: 0.7683900000000008\n",
      "generation: 120\n",
      "best fitness: 0.77\n",
      "average fitness: 0.7682000000000008\n",
      "generation: 140\n",
      "best fitness: 0.77\n",
      "average fitness: 0.7684700000000005\n",
      "generation: 160\n",
      "best fitness: 0.77\n",
      "average fitness: 0.7698900000000006\n",
      "generation: 180\n",
      "best fitness: 0.77\n",
      "average fitness: 0.7698400000000006\n",
      "generation: 200\n",
      "best fitness: 0.77\n",
      "average fitness: 0.7699700000000007\n",
      "generation: 220\n",
      "best fitness: 0.77\n",
      "average fitness: 0.7699400000000007\n",
      "generation: 240\n",
      "best fitness: 0.77\n",
      "average fitness: 0.7699100000000008\n"
     ]
    }
   ],
   "source": [
    "cross_2 = model.run(len(xvals[0]), xvals, yvals, crossover_rate=0.7, log=False)"
   ]
  },
  {
   "cell_type": "code",
   "execution_count": 12,
   "id": "c6f1c17b",
   "metadata": {},
   "outputs": [
    {
     "name": "stdout",
     "output_type": "stream",
     "text": [
      "generation: 0\n",
      "best fitness: 0.774\n",
      "average fitness: 0.48538000000000003\n",
      "generation: 20\n",
      "best fitness: 0.788\n",
      "average fitness: 0.7580600000000005\n",
      "generation: 40\n",
      "best fitness: 0.782\n",
      "average fitness: 0.7644900000000006\n",
      "generation: 60\n",
      "best fitness: 0.778\n",
      "average fitness: 0.7682900000000007\n",
      "generation: 80\n",
      "best fitness: 0.794\n",
      "average fitness: 0.7696300000000004\n",
      "generation: 100\n",
      "best fitness: 0.772\n",
      "average fitness: 0.7684400000000005\n",
      "generation: 120\n",
      "best fitness: 0.794\n",
      "average fitness: 0.7694900000000006\n",
      "generation: 140\n",
      "best fitness: 0.784\n",
      "average fitness: 0.7694200000000005\n",
      "generation: 160\n",
      "best fitness: 0.776\n",
      "average fitness: 0.7681600000000004\n",
      "generation: 180\n",
      "best fitness: 0.774\n",
      "average fitness: 0.7694800000000006\n",
      "generation: 200\n",
      "best fitness: 0.778\n",
      "average fitness: 0.7701600000000005\n",
      "generation: 220\n",
      "best fitness: 0.782\n",
      "average fitness: 0.7701200000000007\n",
      "generation: 240\n",
      "best fitness: 0.772\n",
      "average fitness: 0.7700300000000005\n"
     ]
    }
   ],
   "source": [
    "cross_3 = model.run(len(xvals[0]), xvals, yvals, crossover_rate=1, log=False)"
   ]
  },
  {
   "cell_type": "code",
   "execution_count": 13,
   "id": "e26872a1",
   "metadata": {},
   "outputs": [
    {
     "name": "stdout",
     "output_type": "stream",
     "text": [
      "generation: 0\n",
      "best fitness: 0.78\n",
      "average fitness: 0.47697000000000017\n",
      "generation: 20\n",
      "best fitness: 0.778\n",
      "average fitness: 0.7579700000000004\n",
      "generation: 40\n",
      "best fitness: 0.774\n",
      "average fitness: 0.7668500000000009\n",
      "generation: 60\n",
      "best fitness: 0.772\n",
      "average fitness: 0.7662300000000006\n",
      "generation: 80\n",
      "best fitness: 0.772\n",
      "average fitness: 0.7666300000000009\n",
      "generation: 100\n",
      "best fitness: 0.77\n",
      "average fitness: 0.7692700000000007\n",
      "generation: 120\n",
      "best fitness: 0.77\n",
      "average fitness: 0.7696900000000008\n",
      "generation: 140\n",
      "best fitness: 0.77\n",
      "average fitness: 0.7696200000000007\n",
      "generation: 160\n",
      "best fitness: 0.77\n",
      "average fitness: 0.7694400000000008\n",
      "generation: 180\n",
      "best fitness: 0.77\n",
      "average fitness: 0.7694900000000008\n",
      "generation: 200\n",
      "best fitness: 0.77\n",
      "average fitness: 0.7698400000000005\n",
      "generation: 220\n",
      "best fitness: 0.77\n",
      "average fitness: 0.7698900000000006\n",
      "generation: 240\n",
      "best fitness: 0.77\n",
      "average fitness: 0.7699600000000006\n"
     ]
    }
   ],
   "source": [
    "gaus_0 = model.run(len(xvals[0]), xvals, yvals, gaussian_variance=0.01, log=False)"
   ]
  },
  {
   "cell_type": "code",
   "execution_count": 14,
   "id": "4a7666b3",
   "metadata": {},
   "outputs": [
    {
     "name": "stdout",
     "output_type": "stream",
     "text": [
      "generation: 0\n",
      "best fitness: 0.774\n",
      "average fitness: 0.5008600000000004\n",
      "generation: 20\n",
      "best fitness: 0.79\n",
      "average fitness: 0.7605100000000004\n",
      "generation: 40\n",
      "best fitness: 0.784\n",
      "average fitness: 0.7689400000000007\n",
      "generation: 60\n",
      "best fitness: 0.776\n",
      "average fitness: 0.76581\n",
      "generation: 80\n",
      "best fitness: 0.772\n",
      "average fitness: 0.7690500000000005\n",
      "generation: 100\n",
      "best fitness: 0.772\n",
      "average fitness: 0.7689900000000004\n",
      "generation: 120\n",
      "best fitness: 0.778\n",
      "average fitness: 0.7684400000000003\n",
      "generation: 140\n",
      "best fitness: 0.77\n",
      "average fitness: 0.767290000000001\n",
      "generation: 160\n",
      "best fitness: 0.774\n",
      "average fitness: 0.7686000000000006\n",
      "generation: 180\n",
      "best fitness: 0.77\n",
      "average fitness: 0.7685500000000006\n",
      "generation: 200\n",
      "best fitness: 0.77\n",
      "average fitness: 0.7694800000000008\n",
      "generation: 220\n",
      "best fitness: 0.77\n",
      "average fitness: 0.7693000000000009\n",
      "generation: 240\n",
      "best fitness: 0.77\n",
      "average fitness: 0.7688300000000003\n"
     ]
    }
   ],
   "source": [
    "gaus_1 = model.run(len(xvals[0]), xvals, yvals, gaussian_variance=0.05, log=False)"
   ]
  },
  {
   "cell_type": "code",
   "execution_count": 15,
   "id": "cd92a0d5",
   "metadata": {},
   "outputs": [
    {
     "name": "stdout",
     "output_type": "stream",
     "text": [
      "generation: 0\n",
      "best fitness: 0.792\n",
      "average fitness: 0.4907400000000001\n",
      "generation: 20\n",
      "best fitness: 0.786\n",
      "average fitness: 0.7621900000000005\n",
      "generation: 40\n",
      "best fitness: 0.788\n",
      "average fitness: 0.7656700000000004\n",
      "generation: 60\n",
      "best fitness: 0.786\n",
      "average fitness: 0.7702800000000006\n",
      "generation: 80\n",
      "best fitness: 0.8\n",
      "average fitness: 0.7700500000000008\n",
      "generation: 100\n",
      "best fitness: 0.794\n",
      "average fitness: 0.7726900000000007\n",
      "generation: 120\n",
      "best fitness: 0.79\n",
      "average fitness: 0.7718100000000012\n",
      "generation: 140\n",
      "best fitness: 0.792\n",
      "average fitness: 0.7713700000000006\n",
      "generation: 160\n",
      "best fitness: 0.786\n",
      "average fitness: 0.7713300000000005\n",
      "generation: 180\n",
      "best fitness: 0.786\n",
      "average fitness: 0.7711700000000005\n",
      "generation: 200\n",
      "best fitness: 0.788\n",
      "average fitness: 0.7711200000000004\n",
      "generation: 220\n",
      "best fitness: 0.788\n",
      "average fitness: 0.77152\n",
      "generation: 240\n",
      "best fitness: 0.79\n",
      "average fitness: 0.7719500000000004\n"
     ]
    }
   ],
   "source": [
    "gaus_2 = model.run(len(xvals[0]), xvals, yvals, gaussian_variance=0.1, log=False)"
   ]
  },
  {
   "cell_type": "code",
   "execution_count": 16,
   "id": "94ca7f90",
   "metadata": {},
   "outputs": [
    {
     "name": "stdout",
     "output_type": "stream",
     "text": [
      "generation: 0\n",
      "best fitness: 0.774\n",
      "average fitness: 0.48791000000000023\n",
      "generation: 20\n",
      "best fitness: 0.78\n",
      "average fitness: 0.7587600000000007\n",
      "generation: 40\n",
      "best fitness: 0.782\n",
      "average fitness: 0.7671800000000008\n",
      "generation: 60\n",
      "best fitness: 0.78\n",
      "average fitness: 0.7701300000000006\n",
      "generation: 80\n",
      "best fitness: 0.796\n",
      "average fitness: 0.7697100000000006\n",
      "generation: 100\n",
      "best fitness: 0.782\n",
      "average fitness: 0.7680800000000003\n",
      "generation: 120\n",
      "best fitness: 0.782\n",
      "average fitness: 0.769730000000001\n",
      "generation: 140\n",
      "best fitness: 0.782\n",
      "average fitness: 0.7701700000000009\n",
      "generation: 160\n",
      "best fitness: 0.784\n",
      "average fitness: 0.7705500000000006\n",
      "generation: 180\n",
      "best fitness: 0.79\n",
      "average fitness: 0.7707900000000003\n",
      "generation: 200\n",
      "best fitness: 0.782\n",
      "average fitness: 0.7708800000000007\n",
      "generation: 220\n",
      "best fitness: 0.782\n",
      "average fitness: 0.7703400000000009\n",
      "generation: 240\n",
      "best fitness: 0.78\n",
      "average fitness: 0.7701200000000006\n"
     ]
    }
   ],
   "source": [
    "gaus_3 = model.run(len(xvals[0]), xvals, yvals, gaussian_variance=0.3, log=False)"
   ]
  },
  {
   "cell_type": "code",
   "execution_count": 17,
   "id": "ffe0298e",
   "metadata": {},
   "outputs": [
    {
     "name": "stdout",
     "output_type": "stream",
     "text": [
      "generation: 0\n",
      "best fitness: 0.79\n",
      "average fitness: 0.44422000000000034\n",
      "generation: 20\n",
      "best fitness: 0.782\n",
      "average fitness: 0.7647100000000008\n",
      "generation: 40\n",
      "best fitness: 0.796\n",
      "average fitness: 0.76744\n",
      "generation: 60\n",
      "best fitness: 0.794\n",
      "average fitness: 0.7635800000000007\n",
      "generation: 80\n",
      "best fitness: 0.788\n",
      "average fitness: 0.7661700000000006\n",
      "generation: 100\n",
      "best fitness: 0.784\n",
      "average fitness: 0.7675800000000004\n",
      "generation: 120\n",
      "best fitness: 0.796\n",
      "average fitness: 0.7696100000000007\n",
      "generation: 140\n",
      "best fitness: 0.786\n",
      "average fitness: 0.7664000000000005\n",
      "generation: 160\n",
      "best fitness: 0.778\n",
      "average fitness: 0.7691100000000006\n",
      "generation: 180\n",
      "best fitness: 0.782\n",
      "average fitness: 0.7695600000000005\n",
      "generation: 200\n",
      "best fitness: 0.774\n",
      "average fitness: 0.7701600000000006\n",
      "generation: 220\n",
      "best fitness: 0.782\n",
      "average fitness: 0.7699900000000008\n",
      "generation: 240\n",
      "best fitness: 0.782\n",
      "average fitness: 0.7701400000000003\n"
     ]
    }
   ],
   "source": [
    "gaus_4 = model.run(len(xvals[0]), xvals, yvals, gaussian_variance=1, log=False)"
   ]
  },
  {
   "cell_type": "code",
   "execution_count": 18,
   "id": "f876d617",
   "metadata": {},
   "outputs": [
    {
     "data": {
      "text/plain": [
       "[<matplotlib.lines.Line2D at 0x128506310>]"
      ]
     },
     "execution_count": 18,
     "metadata": {},
     "output_type": "execute_result"
    },
    {
     "data": {
      "image/png": "[encoded data removed]",
      "text/plain": [
       "<Figure size 640x480 with 1 Axes>"
      ]
     },
     "metadata": {},
     "output_type": "display_data"
    }
   ],
   "source": [
    "import matplotlib.pyplot as plt\n",
    "plt.xlabel('mutation rate')\n",
    "plt.ylabel('fitness')\n",
    "plt.plot([0.0003, 0.0006, 0.001, 0.002, 0.003], [mut_0, mut_1, mut_2, mut_3, mut_4])"
   ]
  },
  {
   "cell_type": "code",
   "execution_count": 19,
   "id": "a132f7cb",
   "metadata": {},
   "outputs": [
    {
     "data": {
      "text/plain": [
       "[<matplotlib.lines.Line2D at 0x1286106a0>]"
      ]
     },
     "execution_count": 19,
     "metadata": {},
     "output_type": "execute_result"
    },
    {
     "data": {
      "image/png": "[encoded data removed]",
      "text/plain": [
       "<Figure size 640x480 with 1 Axes>"
      ]
     },
     "metadata": {},
     "output_type": "display_data"
    }
   ],
   "source": [
    "plt.xlabel('crossover rate')\n",
    "plt.ylabel('fitness')\n",
    "plt.plot([0, 0.3, 0.7, 1], [cross_0, cross_1, cross_2, cross_3])"
   ]
  },
  {
   "cell_type": "code",
   "execution_count": 20,
   "id": "c892c91f",
   "metadata": {},
   "outputs": [
    {
     "data": {
      "text/plain": [
       "[<matplotlib.lines.Line2D at 0x12868bd60>]"
      ]
     },
     "execution_count": 20,
     "metadata": {},
     "output_type": "execute_result"
    },
    {
     "data": {
      "image/png": "[encoded data removed]",
      "text/plain": [
       "<Figure size 640x480 with 1 Axes>"
      ]
     },
     "metadata": {},
     "output_type": "display_data"
    }
   ],
   "source": [
    "plt.xlabel('gaussian rate')\n",
    "plt.ylabel('fitness')\n",
    "plt.plot([0.01, 0.05, 0.1, 0.3, 1], [gaus_0, gaus_1, gaus_2, gaus_3, gaus_4])"
   ]
  },
  {
   "cell_type": "code",
   "execution_count": null,
   "id": "c1066f42",
   "metadata": {},
   "outputs": [],
   "source": []
  }
 ],
 "metadata": {
  "kernelspec": {
   "display_name": "Python 3 (ipykernel)",
   "language": "python",
   "name": "python3"
  },
  "language_info": {
   "codemirror_mode": {
    "name": "ipython",
    "version": 3
   },
   "file_extension": ".py",
   "mimetype": "text/x-python",
   "name": "python",
   "nbconvert_exporter": "python",
   "pygments_lexer": "ipython3",
   "version": "3.9.6"
  }
 },
 "nbformat": 4,
 "nbformat_minor": 5
}
